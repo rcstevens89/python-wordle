{
 "cells": [
  {
   "cell_type": "code",
   "execution_count": 11,
   "metadata": {},
   "outputs": [],
   "source": [
    "import pandas as pd\n",
    "import csv\n",
    "from IPython.display import clear_output\n",
    "import os\n"
   ]
  },
  {
   "cell_type": "code",
   "execution_count": 12,
   "metadata": {},
   "outputs": [
    {
     "name": "stdout",
     "output_type": "stream",
     "text": [
      "['.git', '.gitignore', 'wordle helper.ipynb', 'wordle list2.csv', 'wordle_throuple.csv']\n"
     ]
    }
   ],
   "source": [
    "file_list = os.listdir(r'.')\n",
    "print(file_list)\n",
    "\n",
    "top_letters = ['e','a','r','i','o','t','n','s','l','c','u','d','p','m','h']"
   ]
  },
  {
   "cell_type": "code",
   "execution_count": 13,
   "metadata": {},
   "outputs": [],
   "source": [
    "with open(\"wordle list2.csv\",'r') as csv_file:\n",
    "    csv_reader = csv.reader(csv_file)\n",
    "    wordle_words = list(csv_reader)[0]"
   ]
  },
  {
   "cell_type": "code",
   "execution_count": 14,
   "metadata": {},
   "outputs": [],
   "source": [
    "wordle_df = pd.DataFrame(wordle_words, columns=['words'])\n",
    "wordle_df = wordle_df.loc[\n",
    "   (wordle_df['words'].str[0].isin(top_letters)) \n",
    "   & (wordle_df['words'].str[1].isin(top_letters)) \n",
    "   & (wordle_df['words'].str[2].isin(top_letters))\n",
    "   & (wordle_df['words'].str[3].isin(top_letters))\n",
    "   & (wordle_df['words'].str[4].isin(top_letters)), :\n",
    "]\n",
    "\n",
    "wordle_df = wordle_df['words'].to_list()"
   ]
  },
  {
   "cell_type": "code",
   "execution_count": 15,
   "metadata": {},
   "outputs": [],
   "source": [
    "if 'wordle_throuple.csv' not in file_list:\n",
    "    top_letters = ['e','a','r','i','o','t','n','s','l','c','u','d','p','m','h']\n",
    "\n",
    "\n",
    "    poss_starters = []\n",
    "\n",
    "    for ind, word in enumerate(wordle_words):\n",
    "        clear_output()\n",
    "        print(f'evaluating {ind} of {len(wordle_words)}: {word}')\n",
    "        score = 0\n",
    "        for letter in top_letters:\n",
    "            if letter in word:\n",
    "                score += 1\n",
    "        for letter_in_word in word:\n",
    "            if word.count(letter_in_word) > 1:\n",
    "                score -= 1\n",
    "        if score == 5:\n",
    "            poss_starters.append(word)\n",
    "            print('found one!')\n",
    "    "
   ]
  },
  {
   "cell_type": "markdown",
   "metadata": {},
   "source": [
    "\n",
    "working_combos = []\n",
    "\n",
    "for i in range(len(poss_starters)-1):\n",
    "    starter = poss_starters[i]\n",
    "   \n",
    "    j = i+1\n",
    "    while j < len(poss_starters):\n",
    "        compare_word = poss_starters[j]\n",
    "        \n",
    "        for letter in starter:\n",
    "            num = compare_word.count(letter)\n",
    "            if num > 0:\n",
    "                break\n",
    "            elif letter == starter[4] and num == 0:\n",
    "                working_combos.append([starter, compare_word])\n",
    "        j=j+1\n",
    "\n",
    "print(len(working_combos))\n",
    "\n"
   ]
  },
  {
   "cell_type": "code",
   "execution_count": 16,
   "metadata": {},
   "outputs": [],
   "source": [
    "if 'wordle_throuple.csv' not in file_list:\n",
    "    matches = pd.DataFrame()\n",
    "\n",
    "    for i in range(len(poss_starters)-1):\n",
    "        start_word = poss_starters[i]\n",
    "        match_words = poss_starters[i+1:]\n",
    "\n",
    "        possible_matches = pd.DataFrame({\n",
    "            'word':start_word,\n",
    "            'matches':match_words\n",
    "        })\n",
    "\n",
    "        for letter in start_word:\n",
    "            possible_matches = possible_matches[~possible_matches['matches'].str.contains(letter)]\n",
    "\n",
    "        matches = pd.concat([matches, possible_matches], ignore_index=True).reset_index(drop=True)\n",
    "\n",
    "    print(matches)\n"
   ]
  },
  {
   "cell_type": "code",
   "execution_count": 17,
   "metadata": {},
   "outputs": [
    {
     "name": "stdout",
     "output_type": "stream",
     "text": [
      "Unnamed: 0    31554\n",
      "word          crisp\n",
      "match_1       ethal\n",
      "match_2       nodum\n",
      "Name: 31554, dtype: object\n"
     ]
    }
   ],
   "source": [
    "if 'wordle_throuple.csv' not in file_list:\n",
    "    triple_matches = pd.DataFrame()\n",
    "\n",
    "    for ind, row in matches.iterrows():\n",
    "        poss_trip_matches = pd.DataFrame({\n",
    "            'word':row['word'],\n",
    "            'match_1': row['matches'],\n",
    "            'match_2': matches.loc[matches['word']==row['matches'], 'matches']\n",
    "        })\n",
    "        for letter in row['word']:\n",
    "            poss_trip_matches = poss_trip_matches[~poss_trip_matches['match_2'].str.contains(letter)]\n",
    "        triple_matches = pd.concat([triple_matches, poss_trip_matches]).reset_index(drop=True)\n",
    "        if ind % 100 == 0:\n",
    "            clear_output()\n",
    "            print(f'Running! {(ind / len(matches) * 100)}% complete!')\n",
    "\n",
    "    triple_matches.to_csv('wordle_throuple.csv')\n",
    "\n",
    "# if platform.system() == 'Windows':\n",
    "#     os.startfile(r'wordle_throuple.csv')\n",
    "# else:\n",
    "#     os.system('libreoffice wordle_throuple.csv &')\n",
    "    \n",
    "from random import randint\n",
    "triples = pd.read_csv('wordle_throuple.csv')\n",
    "rand_int = randint(0, len(triples))\n",
    "print(triples.loc[rand_int,:])"
   ]
  },
  {
   "cell_type": "markdown",
   "metadata": {},
   "source": [
    "combos_df = pd.DataFrame(data = working_combos, columns=['starter', 'match'])\n",
    "print(combos_df)"
   ]
  },
  {
   "cell_type": "code",
   "execution_count": 18,
   "metadata": {},
   "outputs": [
    {
     "name": "stdout",
     "output_type": "stream",
     "text": [
      "       0\n",
      "0  shear\n"
     ]
    },
    {
     "name": "stderr",
     "output_type": "stream",
     "text": [
      "C:\\Users\\roberts\\AppData\\Local\\Temp\\ipykernel_18256\\821261768.py:38: FutureWarning: Series.__getitem__ treating keys as positions is deprecated. In a future version, integer keys will always be treated as labels (consistent with DataFrame behavior). To access a value by position, use `ser.iloc[pos]`\n",
      "  if l in word[0]:\n"
     ]
    }
   ],
   "source": [
    "\"\"\"\n",
    "Unnamed: 0    70398\n",
    "word          nidal\n",
    "match_1       spume\n",
    "match_2       torch\n",
    "Name: 70398, dtype: object\n",
    "\"\"\"\n",
    "\n",
    "not_in_word = 'nidlpumtoc'\n",
    "not_in_word = [x for x in not_in_word]\n",
    "\n",
    "in_word = 'saerh'\n",
    "in_word = [y for y in in_word]\n",
    "\n",
    "letter_in_correct_pos = {\n",
    "    0:'s',\n",
    "    3:'a'\n",
    "}\n",
    "\n",
    "letters_not_in_pos = {\n",
    "    4:'e',\n",
    "    2:'r',\n",
    "    9:'h'\n",
    "}\n",
    "\n",
    "not_in_word = [x for x in not_in_word]\n",
    "\n",
    "wordle_words_df = pd.DataFrame(data=wordle_words, columns=['words'])\n",
    "\n",
    "for l in not_in_word:\n",
    "    wordle_words_df = wordle_words_df[~wordle_words_df['words'].str.contains(l, regex=True)]\n",
    "\n",
    "temp_solutions = pd.DataFrame()\n",
    "\n",
    "for ind, word in wordle_words_df.iterrows():\n",
    "    score = 0\n",
    "    for l in in_word:\n",
    "        if l in word[0]:\n",
    "            score = score + 1\n",
    "        else:\n",
    "            break\n",
    "    if score == len(in_word):\n",
    "        temp_solutions = pd.concat([temp_solutions, word], ignore_index = True)\n",
    "\n",
    "for ind, l in letters_not_in_pos.items():\n",
    "    temp_solutions = temp_solutions[temp_solutions[0].str[(ind % 5)] != l]\n",
    "\n",
    "for ind, l in letter_in_correct_pos.items():\n",
    "    temp_solutions = temp_solutions[temp_solutions[0].str[(ind % 5)] == l]\n",
    "\n",
    "wordle_words_df = temp_solutions.reset_index(drop = True)\n",
    "\n",
    "print(wordle_words_df)"
   ]
  },
  {
   "cell_type": "markdown",
   "metadata": {},
   "source": [
    "'''\n",
    "Unnamed: 0    30929\n",
    "word          cried\n",
    "match_1       notal\n",
    "match_2       sumph\n",
    "Name: 30929, dtype: object\n",
    "'''\n",
    "\n",
    "\n",
    "print(triples.loc[\n",
    "    (triples['word']=='decal')\n",
    "    & (triples['match_1']=='rosin')\n",
    ", :])\n"
   ]
  }
 ],
 "metadata": {
  "kernelspec": {
   "display_name": "Python 3",
   "language": "python",
   "name": "python3"
  },
  "language_info": {
   "codemirror_mode": {
    "name": "ipython",
    "version": 3
   },
   "file_extension": ".py",
   "mimetype": "text/x-python",
   "name": "python",
   "nbconvert_exporter": "python",
   "pygments_lexer": "ipython3",
   "version": "3.12.9"
  },
  "orig_nbformat": 4
 },
 "nbformat": 4,
 "nbformat_minor": 2
}
