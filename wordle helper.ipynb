{
 "cells": [
  {
   "cell_type": "code",
   "execution_count": 18,
   "metadata": {},
   "outputs": [],
   "source": [
    "import pandas as pd\n",
    "import csv\n",
    "from IPython.display import clear_output\n",
    "import os\n"
   ]
  },
  {
   "cell_type": "code",
   "execution_count": 19,
   "metadata": {},
   "outputs": [
    {
     "name": "stdout",
     "output_type": "stream",
     "text": [
      "['.git', '.gitignore', 'wordle helper.ipynb', 'wordle list2.csv', 'wordle_throuple.csv']\n"
     ]
    }
   ],
   "source": [
    "file_list = os.listdir(r'.')\n",
    "print(file_list)\n",
    "\n",
    "top_letters = ['e','a','r','i','o','t','n','s','l','c','u','d','p','m','h']"
   ]
  },
  {
   "cell_type": "code",
   "execution_count": 20,
   "metadata": {},
   "outputs": [],
   "source": [
    "with open(\"wordle list2.csv\",'r') as csv_file:\n",
    "    csv_reader = csv.reader(csv_file)\n",
    "    wordle_words = list(csv_reader)[0]"
   ]
  },
  {
   "cell_type": "code",
   "execution_count": 21,
   "metadata": {},
   "outputs": [],
   "source": [
    "wordle_df = pd.DataFrame(wordle_words, columns=['words'])\n",
    "wordle_df = wordle_df.loc[\n",
    "   (wordle_df['words'].str[0].isin(top_letters)) \n",
    "   & (wordle_df['words'].str[1].isin(top_letters)) \n",
    "   & (wordle_df['words'].str[2].isin(top_letters))\n",
    "   & (wordle_df['words'].str[3].isin(top_letters))\n",
    "   & (wordle_df['words'].str[4].isin(top_letters)), :\n",
    "]\n",
    "\n",
    "wordle_df = wordle_df['words'].to_list()"
   ]
  },
  {
   "cell_type": "code",
   "execution_count": 22,
   "metadata": {},
   "outputs": [],
   "source": [
    "if 'wordle_throuple.csv' not in file_list:\n",
    "    top_letters = ['e','a','r','i','o','t','n','s','l','c','u','d','p','m','h']\n",
    "\n",
    "\n",
    "    poss_starters = []\n",
    "\n",
    "    for ind, word in enumerate(wordle_words):\n",
    "        clear_output()\n",
    "        print(f'evaluating {ind} of {len(wordle_words)}: {word}')\n",
    "        score = 0\n",
    "        for letter in top_letters:\n",
    "            if letter in word:\n",
    "                score += 1\n",
    "        for letter_in_word in word:\n",
    "            if word.count(letter_in_word) > 1:\n",
    "                score -= 1\n",
    "        if score == 5:\n",
    "            poss_starters.append(word)\n",
    "            print('found one!')\n",
    "    "
   ]
  },
  {
   "cell_type": "markdown",
   "metadata": {},
   "source": [
    "\n",
    "working_combos = []\n",
    "\n",
    "for i in range(len(poss_starters)-1):\n",
    "    starter = poss_starters[i]\n",
    "   \n",
    "    j = i+1\n",
    "    while j < len(poss_starters):\n",
    "        compare_word = poss_starters[j]\n",
    "        \n",
    "        for letter in starter:\n",
    "            num = compare_word.count(letter)\n",
    "            if num > 0:\n",
    "                break\n",
    "            elif letter == starter[4] and num == 0:\n",
    "                working_combos.append([starter, compare_word])\n",
    "        j=j+1\n",
    "\n",
    "print(len(working_combos))\n",
    "\n"
   ]
  },
  {
   "cell_type": "code",
   "execution_count": 23,
   "metadata": {},
   "outputs": [],
   "source": [
    "if 'wordle_throuple.csv' not in file_list:\n",
    "    matches = pd.DataFrame()\n",
    "\n",
    "    for i in range(len(poss_starters)-1):\n",
    "        start_word = poss_starters[i]\n",
    "        match_words = poss_starters[i+1:]\n",
    "\n",
    "        possible_matches = pd.DataFrame({\n",
    "            'word':start_word,\n",
    "            'matches':match_words\n",
    "        })\n",
    "\n",
    "        for letter in start_word:\n",
    "            possible_matches = possible_matches[~possible_matches['matches'].str.contains(letter)]\n",
    "\n",
    "        matches = pd.concat([matches, possible_matches], ignore_index=True).reset_index(drop=True)\n",
    "\n",
    "    print(matches)\n"
   ]
  },
  {
   "cell_type": "code",
   "execution_count": 24,
   "metadata": {},
   "outputs": [
    {
     "name": "stdout",
     "output_type": "stream",
     "text": [
      "Unnamed: 0    12727\n",
      "word          charm\n",
      "match_1       luted\n",
      "match_2       opsin\n",
      "Name: 12727, dtype: object\n"
     ]
    }
   ],
   "source": [
    "if 'wordle_throuple.csv' not in file_list:\n",
    "    triple_matches = pd.DataFrame()\n",
    "\n",
    "    for ind, row in matches.iterrows():\n",
    "        poss_trip_matches = pd.DataFrame({\n",
    "            'word':row['word'],\n",
    "            'match_1': row['matches'],\n",
    "            'match_2': matches.loc[matches['word']==row['matches'], 'matches']\n",
    "        })\n",
    "        for letter in row['word']:\n",
    "            poss_trip_matches = poss_trip_matches[~poss_trip_matches['match_2'].str.contains(letter)]\n",
    "        triple_matches = pd.concat([triple_matches, poss_trip_matches]).reset_index(drop=True)\n",
    "        if ind % 100 == 0:\n",
    "            clear_output()\n",
    "            print(f'Running! {(ind / len(matches) * 100)}% complete!')\n",
    "\n",
    "    triple_matches.to_csv('wordle_throuple.csv')\n",
    "\n",
    "# if platform.system() == 'Windows':\n",
    "#     os.startfile(r'wordle_throuple.csv')\n",
    "# else:\n",
    "#     os.system('libreoffice wordle_throuple.csv &')\n",
    "    \n",
    "from random import randint\n",
    "triples = pd.read_csv('wordle_throuple.csv')\n",
    "rand_int = randint(0, len(triples))\n",
    "print(triples.loc[rand_int,:])"
   ]
  },
  {
   "cell_type": "markdown",
   "metadata": {},
   "source": [
    "combos_df = pd.DataFrame(data = working_combos, columns=['starter', 'match'])\n",
    "print(combos_df)"
   ]
  },
  {
   "cell_type": "code",
   "execution_count": 25,
   "metadata": {},
   "outputs": [
    {
     "name": "stdout",
     "output_type": "stream",
     "text": [
      "       0\n",
      "0  guest\n",
      "1  quest\n",
      "2  suete\n",
      "3  suets\n",
      "4  suety\n",
      "5  suite\n"
     ]
    },
    {
     "name": "stderr",
     "output_type": "stream",
     "text": [
      "C:\\Users\\roberts\\AppData\\Local\\Temp\\ipykernel_1340\\2561309707.py:37: FutureWarning: Series.__getitem__ treating keys as positions is deprecated. In a future version, integer keys will always be treated as labels (consistent with DataFrame behavior). To access a value by position, use `ser.iloc[pos]`\n",
      "  if l in word[0]:\n"
     ]
    }
   ],
   "source": [
    "\"\"\"\n",
    "Unnamed: 0    64460\n",
    "word          misch\n",
    "match_1       noted\n",
    "match_2       plaur\n",
    "Name: 64460, dtype: object\n",
    "\"\"\"\n",
    "\n",
    "not_in_word = 'mdhorn'\n",
    "not_in_word = [x for x in not_in_word]\n",
    "\n",
    "in_word = 'uset'\n",
    "in_word = [y for y in in_word]\n",
    "\n",
    "letter_in_correct_pos = {\n",
    "    1:'u'\n",
    "}\n",
    "\n",
    "letters_not_in_pos = {\n",
    "    3:'e',\n",
    "    2:'s',\n",
    "    0:'t',\n",
    "}\n",
    "\n",
    "not_in_word = [x for x in not_in_word]\n",
    "\n",
    "wordle_words_df = pd.DataFrame(data=wordle_words, columns=['words'])\n",
    "\n",
    "for l in not_in_word:\n",
    "    wordle_words_df = wordle_words_df[~wordle_words_df['words'].str.contains(l, regex=True)]\n",
    "\n",
    "temp_solutions = pd.DataFrame()\n",
    "\n",
    "for ind, word in wordle_words_df.iterrows():\n",
    "    score = 0\n",
    "    for l in in_word:\n",
    "        if l in word[0]:\n",
    "            score = score + 1\n",
    "        else:\n",
    "            break\n",
    "    if score == len(in_word):\n",
    "        temp_solutions = pd.concat([temp_solutions, word], ignore_index = True)\n",
    "\n",
    "for ind, l in letters_not_in_pos.items():\n",
    "    temp_solutions = temp_solutions[temp_solutions[0].str[(ind % 5)] != l]\n",
    "\n",
    "for ind, l in letter_in_correct_pos.items():\n",
    "    temp_solutions = temp_solutions[temp_solutions[0].str[(ind % 5)] == l]\n",
    "\n",
    "wordle_words_df = temp_solutions.reset_index(drop = True)\n",
    "\n",
    "print(wordle_words_df)"
   ]
  },
  {
   "cell_type": "code",
   "execution_count": 26,
   "metadata": {},
   "outputs": [
    {
     "name": "stdout",
     "output_type": "stream",
     "text": [
      "       Unnamed: 0   word match_1 match_2\n",
      "69289       69289  mused   nicht   parol\n",
      "69290       69290  mused   nicht   polar\n",
      "69291       69291  mused   nicht   poral\n",
      "69292       69292  mused   nicht   proal\n",
      "69293       69293  mused   nital   porch\n",
      "69294       69294  mused   nopal   richt\n",
      "69295       69295  mused   north   pical\n",
      "69296       69296  mused   north   plica\n",
      "69297       69297  mused   notch   pilar\n",
      "69298       69298  mused   notch   prial\n",
      "69299       69299  mused   onlap   richt\n",
      "69300       69300  mused   ontic   ralph\n",
      "69301       69301  mused   orant   pilch\n",
      "69302       69302  mused   panch   triol\n",
      "69303       69303  mused   phial   tronc\n",
      "69304       69304  mused   pical   thorn\n",
      "69305       69305  mused   pilch   rotan\n",
      "69306       69306  mused   pilch   toran\n",
      "69307       69307  mused   pilch   trona\n",
      "69308       69308  mused   pilon   ratch\n",
      "69309       69309  mused   pilot   ranch\n",
      "69310       69310  mused   pinch   rotal\n",
      "69311       69311  mused   pinch   tolar\n",
      "69312       69312  mused   pinol   ratch\n",
      "69313       69313  mused   plain   rotch\n",
      "69314       69314  mused   plain   torch\n",
      "69315       69315  mused   planh   toric\n",
      "69316       69316  mused   plica   thorn\n",
      "69317       69317  mused   ploit   ranch\n",
      "69318       69318  mused   pocan   thirl\n",
      "69319       69319  mused   ralph   tonic\n"
     ]
    }
   ],
   "source": [
    "'''\n",
    "Unnamed: 0    30929\n",
    "word          mused\n",
    "match_1       pical\n",
    "match_2       thorn\n",
    "Name: 30929, dtype: object\n",
    "'''\n",
    "\n",
    "\n",
    "print(triples.loc[\n",
    "    (triples['word']=='mused')\n",
    ", :])\n"
   ]
  }
 ],
 "metadata": {
  "kernelspec": {
   "display_name": "Python 3",
   "language": "python",
   "name": "python3"
  },
  "language_info": {
   "codemirror_mode": {
    "name": "ipython",
    "version": 3
   },
   "file_extension": ".py",
   "mimetype": "text/x-python",
   "name": "python",
   "nbconvert_exporter": "python",
   "pygments_lexer": "ipython3",
   "version": "3.12.10"
  },
  "orig_nbformat": 4
 },
 "nbformat": 4,
 "nbformat_minor": 2
}
