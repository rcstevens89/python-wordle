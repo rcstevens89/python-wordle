{
 "cells": [
  {
   "cell_type": "code",
   "execution_count": 1,
   "metadata": {},
   "outputs": [],
   "source": [
    "import pandas as pd\n",
    "import csv\n",
    "from IPython.display import clear_output\n",
    "import os"
   ]
  },
  {
   "cell_type": "code",
   "execution_count": 2,
   "metadata": {},
   "outputs": [
    {
     "name": "stdout",
     "output_type": "stream",
     "text": [
      "['wordle helper.ipynb', 'wordle list2.csv', '.git']\n"
     ]
    }
   ],
   "source": [
    "file_list = os.listdir(r'.')\n",
    "print(file_list)\n",
    "\n",
    "top_letters = ['e','a','r','i','o','t','n','s','l','c','u','d','p','m','h']"
   ]
  },
  {
   "cell_type": "code",
   "execution_count": 3,
   "metadata": {},
   "outputs": [],
   "source": [
    "with open(\"wordle list2.csv\",'r') as csv_file:\n",
    "    csv_reader = csv.reader(csv_file)\n",
    "    wordle_words = list(csv_reader)[0]"
   ]
  },
  {
   "cell_type": "code",
   "execution_count": 4,
   "metadata": {},
   "outputs": [],
   "source": [
    "wordle_df = pd.DataFrame(wordle_words, columns=['words'])\n",
    "wordle_words = wordle_df.loc[\n",
    "   (wordle_df['words'].str[0].isin(top_letters)) \n",
    "   & (wordle_df['words'].str[1].isin(top_letters)) \n",
    "   & (wordle_df['words'].str[2].isin(top_letters))\n",
    "   & (wordle_df['words'].str[3].isin(top_letters))\n",
    "   & (wordle_df['words'].str[4].isin(top_letters)), :\n",
    "]\n",
    "\n",
    "wordle_words = wordle_words['words'].to_list()"
   ]
  },
  {
   "cell_type": "code",
   "execution_count": 5,
   "metadata": {},
   "outputs": [
    {
     "name": "stdout",
     "output_type": "stream",
     "text": [
      "evaluating 5668 of 5669: utter\n"
     ]
    }
   ],
   "source": [
    "if 'wordle_throuple.csv' not in file_list:\n",
    "    top_letters = ['e','a','r','i','o','t','n','s','l','c','u','d','p','m','h']\n",
    "\n",
    "\n",
    "    poss_starters = []\n",
    "\n",
    "    for ind, word in enumerate(wordle_words):\n",
    "        clear_output()\n",
    "        print(f'evaluating {ind} of {len(wordle_words)}: {word}')\n",
    "        score = 0\n",
    "        for letter in top_letters:\n",
    "            if letter in word:\n",
    "                score += 1\n",
    "        for letter_in_word in word:\n",
    "            if word.count(letter_in_word) > 1:\n",
    "                score -= 1\n",
    "        if score == 5:\n",
    "            poss_starters.append(word)\n",
    "            print('found one!')\n",
    "    "
   ]
  },
  {
   "cell_type": "markdown",
   "metadata": {},
   "source": [
    "\n",
    "working_combos = []\n",
    "\n",
    "for i in range(len(poss_starters)-1):\n",
    "    starter = poss_starters[i]\n",
    "   \n",
    "    j = i+1\n",
    "    while j < len(poss_starters):\n",
    "        compare_word = poss_starters[j]\n",
    "        \n",
    "        for letter in starter:\n",
    "            num = compare_word.count(letter)\n",
    "            if num > 0:\n",
    "                break\n",
    "            elif letter == starter[4] and num == 0:\n",
    "                working_combos.append([starter, compare_word])\n",
    "        j=j+1\n",
    "\n",
    "print(len(working_combos))\n",
    "\n"
   ]
  },
  {
   "cell_type": "code",
   "execution_count": 6,
   "metadata": {},
   "outputs": [
    {
     "name": "stdout",
     "output_type": "stream",
     "text": [
      "         word matches\n",
      "0       acers   dhoni\n",
      "1       acers   dhoti\n",
      "2       acers   dhuti\n",
      "3       acers   dinlo\n",
      "4       acers   doilt\n",
      "...       ...     ...\n",
      "351487  tsade   ulmin\n",
      "351488  tsade   unhip\n",
      "351489  tsade   unrip\n",
      "351490  tsadi   ulcer\n",
      "351491  tsadi   uncle\n",
      "\n",
      "[351492 rows x 2 columns]\n"
     ]
    }
   ],
   "source": [
    "if 'wordle_throuple.csv' not in file_list:\n",
    "    matches = pd.DataFrame()\n",
    "\n",
    "    for i in range(len(poss_starters)-1):\n",
    "        start_word = poss_starters[i]\n",
    "        match_words = poss_starters[i+1:]\n",
    "\n",
    "        possible_matches = pd.DataFrame({\n",
    "            'word':start_word,\n",
    "            'matches':match_words\n",
    "        })\n",
    "\n",
    "        for letter in start_word:\n",
    "            possible_matches = possible_matches[~possible_matches['matches'].str.contains(letter)]\n",
    "\n",
    "        matches = pd.concat([matches, possible_matches], ignore_index=True).reset_index(drop=True)\n",
    "\n",
    "    print(matches)\n"
   ]
  },
  {
   "cell_type": "code",
   "execution_count": 7,
   "metadata": {},
   "outputs": [
    {
     "name": "stdout",
     "output_type": "stream",
     "text": [
      "Running! 99.97382586232403% complete!\n"
     ]
    },
    {
     "ename": "AttributeError",
     "evalue": "module 'os' has no attribute 'startfile'",
     "output_type": "error",
     "traceback": [
      "\u001b[0;31m---------------------------------------------------------------------------\u001b[0m",
      "\u001b[0;31mAttributeError\u001b[0m                            Traceback (most recent call last)",
      "Cell \u001b[0;32mIn[7], line 19\u001b[0m\n\u001b[1;32m     15\u001b[0m             \u001b[39mprint\u001b[39m(\u001b[39mf\u001b[39m\u001b[39m'\u001b[39m\u001b[39mRunning! \u001b[39m\u001b[39m{\u001b[39;00m(ind\u001b[39m \u001b[39m\u001b[39m/\u001b[39m\u001b[39m \u001b[39m\u001b[39mlen\u001b[39m(matches)\u001b[39m \u001b[39m\u001b[39m*\u001b[39m\u001b[39m \u001b[39m\u001b[39m100\u001b[39m)\u001b[39m}\u001b[39;00m\u001b[39m% complete!\u001b[39m\u001b[39m'\u001b[39m)\n\u001b[1;32m     17\u001b[0m     triple_matches\u001b[39m.\u001b[39mto_csv(\u001b[39m'\u001b[39m\u001b[39mwordle_throuple.csv\u001b[39m\u001b[39m'\u001b[39m)\n\u001b[0;32m---> 19\u001b[0m os\u001b[39m.\u001b[39;49mstartfile(\u001b[39mr\u001b[39m\u001b[39m'\u001b[39m\u001b[39mwordle_throuple.csv\u001b[39m\u001b[39m'\u001b[39m)\n",
      "\u001b[0;31mAttributeError\u001b[0m: module 'os' has no attribute 'startfile'"
     ]
    }
   ],
   "source": [
    "if 'wordle_throuple.csv' not in file_list:\n",
    "    triple_matches = pd.DataFrame()\n",
    "\n",
    "    for ind, row in matches.iterrows():\n",
    "        poss_trip_matches = pd.DataFrame({\n",
    "            'word':row['word'],\n",
    "            'match_1': row['matches'],\n",
    "            'match_2': matches.loc[matches['word']==row['matches'], 'matches']\n",
    "        })\n",
    "        for letter in row['word']:\n",
    "            poss_trip_matches = poss_trip_matches[~poss_trip_matches['match_2'].str.contains(letter)]\n",
    "        triple_matches = pd.concat([triple_matches, poss_trip_matches]).reset_index(drop=True)\n",
    "        if ind % 100 == 0:\n",
    "            clear_output()\n",
    "            print(f'Running! {(ind / len(matches) * 100)}% complete!')\n",
    "\n",
    "    triple_matches.to_csv('wordle_throuple.csv')\n",
    "\n",
    "os.startfile(r'wordle_throuple.csv')"
   ]
  },
  {
   "cell_type": "markdown",
   "metadata": {},
   "source": [
    "combos_df = pd.DataFrame(data = working_combos, columns=['starter', 'match'])\n",
    "print(combos_df)"
   ]
  },
  {
   "cell_type": "code",
   "execution_count": null,
   "metadata": {},
   "outputs": [],
   "source": [
    "not_in_word = 'mancpusloth'\n",
    "not_in_word = [x for x in not_in_word]\n",
    "\n",
    "in_word = 'irde'\n",
    "in_word = [y for y in in_word]\n",
    "\n",
    "letter_in_correct_pos = {\n",
    "    1:'r',\n",
    "    3:'d',\n",
    "    4:'e'\n",
    "}\n",
    "\n",
    "letters_not_in_pos = {\n",
    "    3:'i'\n",
    "}\n",
    "\n",
    "wordle_words_df = pd.DataFrame(data=wordle_words, columns=['words'])\n",
    "\n",
    "for l in not_in_word:\n",
    "    wordle_words_df = wordle_words_df[~wordle_words_df['words'].str.contains(l, regex=True)]\n",
    "\n",
    "temp_solutions = pd.DataFrame()\n",
    "\n",
    "for ind, word in wordle_words_df.iterrows():\n",
    "    score = 0\n",
    "    for l in in_word:\n",
    "        if l in word[0]:\n",
    "            score = score + 1\n",
    "        else:\n",
    "            break\n",
    "    if score == len(in_word):\n",
    "        temp_solutions = pd.concat([temp_solutions, word], ignore_index = True)\n",
    "\n",
    "for ind, l in letters_not_in_pos.items():\n",
    "    temp_solutions = temp_solutions[temp_solutions[0].str[(ind % 5)] != l]\n",
    "\n",
    "for ind, l in letter_in_correct_pos.items():\n",
    "    temp_solutions = temp_solutions[temp_solutions[0].str[(ind % 5)] == l]\n",
    "\n",
    "wordle_words_df = temp_solutions.reset_index(drop = True)\n",
    "\n",
    "print(wordle_words_df)"
   ]
  }
 ],
 "metadata": {
  "kernelspec": {
   "display_name": "Python 3",
   "language": "python",
   "name": "python3"
  },
  "language_info": {
   "codemirror_mode": {
    "name": "ipython",
    "version": 3
   },
   "file_extension": ".py",
   "mimetype": "text/x-python",
   "name": "python",
   "nbconvert_exporter": "python",
   "pygments_lexer": "ipython3",
   "version": "3.10.12"
  },
  "orig_nbformat": 4
 },
 "nbformat": 4,
 "nbformat_minor": 2
}
