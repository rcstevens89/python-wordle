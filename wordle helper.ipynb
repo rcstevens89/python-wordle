{
 "cells": [
  {
   "cell_type": "code",
   "execution_count": 9,
   "metadata": {},
   "outputs": [],
   "source": [
    "import pandas as pd\n",
    "import csv\n",
    "from IPython.display import clear_output\n",
    "import os\n",
    "import platform\n"
   ]
  },
  {
   "cell_type": "code",
   "execution_count": 10,
   "metadata": {},
   "outputs": [
    {
     "name": "stdout",
     "output_type": "stream",
     "text": [
      "['.git', '.gitignore', 'wordle helper.ipynb', 'wordle list2.csv', 'wordle_throuple.csv']\n"
     ]
    }
   ],
   "source": [
    "file_list = os.listdir(r'.')\n",
    "print(file_list)\n",
    "\n",
    "top_letters = ['e','a','r','i','o','t','n','s','l','c','u','d','p','m','h']"
   ]
  },
  {
   "cell_type": "code",
   "execution_count": 11,
   "metadata": {},
   "outputs": [],
   "source": [
    "with open(\"wordle list2.csv\",'r') as csv_file:\n",
    "    csv_reader = csv.reader(csv_file)\n",
    "    wordle_words = list(csv_reader)[0]"
   ]
  },
  {
   "cell_type": "code",
   "execution_count": 12,
   "metadata": {},
   "outputs": [],
   "source": [
    "wordle_df = pd.DataFrame(wordle_words, columns=['words'])\n",
    "wordle_words = wordle_df.loc[\n",
    "   (wordle_df['words'].str[0].isin(top_letters)) \n",
    "   & (wordle_df['words'].str[1].isin(top_letters)) \n",
    "   & (wordle_df['words'].str[2].isin(top_letters))\n",
    "   & (wordle_df['words'].str[3].isin(top_letters))\n",
    "   & (wordle_df['words'].str[4].isin(top_letters)), :\n",
    "]\n",
    "\n",
    "wordle_words = wordle_words['words'].to_list()"
   ]
  },
  {
   "cell_type": "code",
   "execution_count": 13,
   "metadata": {},
   "outputs": [],
   "source": [
    "if 'wordle_throuple.csv' not in file_list:\n",
    "    top_letters = ['e','a','r','i','o','t','n','s','l','c','u','d','p','m','h']\n",
    "\n",
    "\n",
    "    poss_starters = []\n",
    "\n",
    "    for ind, word in enumerate(wordle_words):\n",
    "        clear_output()\n",
    "        print(f'evaluating {ind} of {len(wordle_words)}: {word}')\n",
    "        score = 0\n",
    "        for letter in top_letters:\n",
    "            if letter in word:\n",
    "                score += 1\n",
    "        for letter_in_word in word:\n",
    "            if word.count(letter_in_word) > 1:\n",
    "                score -= 1\n",
    "        if score == 5:\n",
    "            poss_starters.append(word)\n",
    "            print('found one!')\n",
    "    "
   ]
  },
  {
   "cell_type": "markdown",
   "metadata": {},
   "source": [
    "\n",
    "working_combos = []\n",
    "\n",
    "for i in range(len(poss_starters)-1):\n",
    "    starter = poss_starters[i]\n",
    "   \n",
    "    j = i+1\n",
    "    while j < len(poss_starters):\n",
    "        compare_word = poss_starters[j]\n",
    "        \n",
    "        for letter in starter:\n",
    "            num = compare_word.count(letter)\n",
    "            if num > 0:\n",
    "                break\n",
    "            elif letter == starter[4] and num == 0:\n",
    "                working_combos.append([starter, compare_word])\n",
    "        j=j+1\n",
    "\n",
    "print(len(working_combos))\n",
    "\n"
   ]
  },
  {
   "cell_type": "code",
   "execution_count": 14,
   "metadata": {},
   "outputs": [],
   "source": [
    "if 'wordle_throuple.csv' not in file_list:\n",
    "    matches = pd.DataFrame()\n",
    "\n",
    "    for i in range(len(poss_starters)-1):\n",
    "        start_word = poss_starters[i]\n",
    "        match_words = poss_starters[i+1:]\n",
    "\n",
    "        possible_matches = pd.DataFrame({\n",
    "            'word':start_word,\n",
    "            'matches':match_words\n",
    "        })\n",
    "\n",
    "        for letter in start_word:\n",
    "            possible_matches = possible_matches[~possible_matches['matches'].str.contains(letter)]\n",
    "\n",
    "        matches = pd.concat([matches, possible_matches], ignore_index=True).reset_index(drop=True)\n",
    "\n",
    "    print(matches)\n"
   ]
  },
  {
   "cell_type": "code",
   "execution_count": 15,
   "metadata": {},
   "outputs": [
    {
     "name": "stdout",
     "output_type": "stream",
     "text": [
      "Unnamed: 0    30193\n",
      "word          cramp\n",
      "match_1       shoed\n",
      "match_2       until\n",
      "Name: 30193, dtype: object\n"
     ]
    }
   ],
   "source": [
    "if 'wordle_throuple.csv' not in file_list:\n",
    "    triple_matches = pd.DataFrame()\n",
    "\n",
    "    for ind, row in matches.iterrows():\n",
    "        poss_trip_matches = pd.DataFrame({\n",
    "            'word':row['word'],\n",
    "            'match_1': row['matches'],\n",
    "            'match_2': matches.loc[matches['word']==row['matches'], 'matches']\n",
    "        })\n",
    "        for letter in row['word']:\n",
    "            poss_trip_matches = poss_trip_matches[~poss_trip_matches['match_2'].str.contains(letter)]\n",
    "        triple_matches = pd.concat([triple_matches, poss_trip_matches]).reset_index(drop=True)\n",
    "        if ind % 100 == 0:\n",
    "            clear_output()\n",
    "            print(f'Running! {(ind / len(matches) * 100)}% complete!')\n",
    "\n",
    "    triple_matches.to_csv('wordle_throuple.csv')\n",
    "\n",
    "# if platform.system() == 'Windows':\n",
    "#     os.startfile(r'wordle_throuple.csv')\n",
    "# else:\n",
    "#     os.system('libreoffice wordle_throuple.csv &')\n",
    "    \n",
    "from random import randint\n",
    "triples = pd.read_csv('wordle_throuple.csv')\n",
    "rand_int = randint(0, len(triples))\n",
    "print(triples.loc[rand_int,:])"
   ]
  },
  {
   "cell_type": "markdown",
   "metadata": {},
   "source": [
    "combos_df = pd.DataFrame(data = working_combos, columns=['starter', 'match'])\n",
    "print(combos_df)"
   ]
  },
  {
   "cell_type": "code",
   "execution_count": 16,
   "metadata": {},
   "outputs": [
    {
     "ename": "KeyError",
     "evalue": "0",
     "output_type": "error",
     "traceback": [
      "\u001b[1;31m---------------------------------------------------------------------------\u001b[0m",
      "\u001b[1;31mValueError\u001b[0m                                Traceback (most recent call last)",
      "File \u001b[1;32m~\\AppData\\Local\\Packages\\PythonSoftwareFoundation.Python.3.12_qbz5n2kfra8p0\\LocalCache\\local-packages\\Python312\\site-packages\\pandas\\core\\indexes\\range.py:413\u001b[0m, in \u001b[0;36mRangeIndex.get_loc\u001b[1;34m(self, key)\u001b[0m\n\u001b[0;32m    412\u001b[0m \u001b[38;5;28;01mtry\u001b[39;00m:\n\u001b[1;32m--> 413\u001b[0m     \u001b[38;5;28;01mreturn\u001b[39;00m \u001b[38;5;28;43mself\u001b[39;49m\u001b[38;5;241;43m.\u001b[39;49m\u001b[43m_range\u001b[49m\u001b[38;5;241;43m.\u001b[39;49m\u001b[43mindex\u001b[49m\u001b[43m(\u001b[49m\u001b[43mnew_key\u001b[49m\u001b[43m)\u001b[49m\n\u001b[0;32m    414\u001b[0m \u001b[38;5;28;01mexcept\u001b[39;00m \u001b[38;5;167;01mValueError\u001b[39;00m \u001b[38;5;28;01mas\u001b[39;00m err:\n",
      "\u001b[1;31mValueError\u001b[0m: 0 is not in range",
      "\nThe above exception was the direct cause of the following exception:\n",
      "\u001b[1;31mKeyError\u001b[0m                                  Traceback (most recent call last)",
      "Cell \u001b[1;32mIn[16], line 35\u001b[0m\n\u001b[0;32m     32\u001b[0m         temp_solutions \u001b[38;5;241m=\u001b[39m pd\u001b[38;5;241m.\u001b[39mconcat([temp_solutions, word], ignore_index \u001b[38;5;241m=\u001b[39m \u001b[38;5;28;01mTrue\u001b[39;00m)\n\u001b[0;32m     34\u001b[0m \u001b[38;5;28;01mfor\u001b[39;00m ind, l \u001b[38;5;129;01min\u001b[39;00m letters_not_in_pos\u001b[38;5;241m.\u001b[39mitems():\n\u001b[1;32m---> 35\u001b[0m     temp_solutions \u001b[38;5;241m=\u001b[39m temp_solutions[\u001b[43mtemp_solutions\u001b[49m\u001b[43m[\u001b[49m\u001b[38;5;241;43m0\u001b[39;49m\u001b[43m]\u001b[49m\u001b[38;5;241m.\u001b[39mstr[(ind \u001b[38;5;241m%\u001b[39m \u001b[38;5;241m5\u001b[39m)] \u001b[38;5;241m!=\u001b[39m l]\n\u001b[0;32m     37\u001b[0m \u001b[38;5;28;01mfor\u001b[39;00m ind, l \u001b[38;5;129;01min\u001b[39;00m letter_in_correct_pos\u001b[38;5;241m.\u001b[39mitems():\n\u001b[0;32m     38\u001b[0m     temp_solutions \u001b[38;5;241m=\u001b[39m temp_solutions[temp_solutions[\u001b[38;5;241m0\u001b[39m]\u001b[38;5;241m.\u001b[39mstr[(ind \u001b[38;5;241m%\u001b[39m \u001b[38;5;241m5\u001b[39m)] \u001b[38;5;241m==\u001b[39m l]\n",
      "File \u001b[1;32m~\\AppData\\Local\\Packages\\PythonSoftwareFoundation.Python.3.12_qbz5n2kfra8p0\\LocalCache\\local-packages\\Python312\\site-packages\\pandas\\core\\frame.py:4090\u001b[0m, in \u001b[0;36mDataFrame.__getitem__\u001b[1;34m(self, key)\u001b[0m\n\u001b[0;32m   4088\u001b[0m \u001b[38;5;28;01mif\u001b[39;00m \u001b[38;5;28mself\u001b[39m\u001b[38;5;241m.\u001b[39mcolumns\u001b[38;5;241m.\u001b[39mnlevels \u001b[38;5;241m>\u001b[39m \u001b[38;5;241m1\u001b[39m:\n\u001b[0;32m   4089\u001b[0m     \u001b[38;5;28;01mreturn\u001b[39;00m \u001b[38;5;28mself\u001b[39m\u001b[38;5;241m.\u001b[39m_getitem_multilevel(key)\n\u001b[1;32m-> 4090\u001b[0m indexer \u001b[38;5;241m=\u001b[39m \u001b[38;5;28;43mself\u001b[39;49m\u001b[38;5;241;43m.\u001b[39;49m\u001b[43mcolumns\u001b[49m\u001b[38;5;241;43m.\u001b[39;49m\u001b[43mget_loc\u001b[49m\u001b[43m(\u001b[49m\u001b[43mkey\u001b[49m\u001b[43m)\u001b[49m\n\u001b[0;32m   4091\u001b[0m \u001b[38;5;28;01mif\u001b[39;00m is_integer(indexer):\n\u001b[0;32m   4092\u001b[0m     indexer \u001b[38;5;241m=\u001b[39m [indexer]\n",
      "File \u001b[1;32m~\\AppData\\Local\\Packages\\PythonSoftwareFoundation.Python.3.12_qbz5n2kfra8p0\\LocalCache\\local-packages\\Python312\\site-packages\\pandas\\core\\indexes\\range.py:415\u001b[0m, in \u001b[0;36mRangeIndex.get_loc\u001b[1;34m(self, key)\u001b[0m\n\u001b[0;32m    413\u001b[0m         \u001b[38;5;28;01mreturn\u001b[39;00m \u001b[38;5;28mself\u001b[39m\u001b[38;5;241m.\u001b[39m_range\u001b[38;5;241m.\u001b[39mindex(new_key)\n\u001b[0;32m    414\u001b[0m     \u001b[38;5;28;01mexcept\u001b[39;00m \u001b[38;5;167;01mValueError\u001b[39;00m \u001b[38;5;28;01mas\u001b[39;00m err:\n\u001b[1;32m--> 415\u001b[0m         \u001b[38;5;28;01mraise\u001b[39;00m \u001b[38;5;167;01mKeyError\u001b[39;00m(key) \u001b[38;5;28;01mfrom\u001b[39;00m \u001b[38;5;21;01merr\u001b[39;00m\n\u001b[0;32m    416\u001b[0m \u001b[38;5;28;01mif\u001b[39;00m \u001b[38;5;28misinstance\u001b[39m(key, Hashable):\n\u001b[0;32m    417\u001b[0m     \u001b[38;5;28;01mraise\u001b[39;00m \u001b[38;5;167;01mKeyError\u001b[39;00m(key)\n",
      "\u001b[1;31mKeyError\u001b[0m: 0"
     ]
    }
   ],
   "source": [
    "not_in_word = 'cupldontrims'\n",
    "not_in_word = [x for x in not_in_word]\n",
    "\n",
    "in_word = 'eah'\n",
    "in_word = [y for y in in_word]\n",
    "\n",
    "letter_in_correct_pos = {\n",
    "   \n",
    "}\n",
    "\n",
    "letters_not_in_pos = {\n",
    "    3:'e',\n",
    "    8:'a',\n",
    "    4:'h'\n",
    "}\n",
    "\n",
    "wordle_words_df = pd.DataFrame(data=wordle_words, columns=['words'])\n",
    "\n",
    "for l in not_in_word:\n",
    "    wordle_words_df = wordle_words_df[~wordle_words_df['words'].str.contains(l, regex=True)]\n",
    "\n",
    "temp_solutions = pd.DataFrame()\n",
    "\n",
    "for ind, word in wordle_words_df.iterrows():\n",
    "    score = 0\n",
    "    for l in in_word:\n",
    "        if l in word[0]:\n",
    "            score = score + 1\n",
    "        else:\n",
    "            break\n",
    "    if score == len(in_word):\n",
    "        temp_solutions = pd.concat([temp_solutions, word], ignore_index = True)\n",
    "\n",
    "for ind, l in letters_not_in_pos.items():\n",
    "    temp_solutions = temp_solutions[temp_solutions[0].str[(ind % 5)] != l]\n",
    "\n",
    "for ind, l in letter_in_correct_pos.items():\n",
    "    temp_solutions = temp_solutions[temp_solutions[0].str[(ind % 5)] == l]\n",
    "\n",
    "wordle_words_df = temp_solutions.reset_index(drop = True)\n",
    "\n",
    "print(wordle_words_df)"
   ]
  }
 ],
 "metadata": {
  "kernelspec": {
   "display_name": "Python 3",
   "language": "python",
   "name": "python3"
  },
  "language_info": {
   "codemirror_mode": {
    "name": "ipython",
    "version": 3
   },
   "file_extension": ".py",
   "mimetype": "text/x-python",
   "name": "python",
   "nbconvert_exporter": "python",
   "pygments_lexer": "ipython3",
   "version": "3.12.2"
  },
  "orig_nbformat": 4
 },
 "nbformat": 4,
 "nbformat_minor": 2
}
